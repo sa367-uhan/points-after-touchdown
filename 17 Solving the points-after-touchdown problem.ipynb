{
  "nbformat": 4,
  "nbformat_minor": 0,
  "metadata": {
    "kernelspec": {
      "display_name": "Python 3",
      "language": "python",
      "name": "python3"
    },
    "language_info": {
      "codemirror_mode": {
        "name": "ipython",
        "version": 3
      },
      "file_extension": ".py",
      "mimetype": "text/x-python",
      "name": "python",
      "nbconvert_exporter": "python",
      "pygments_lexer": "ipython3",
      "version": "3.7.6"
    },
    "latex_metadata": {
      "title": "Lesson 21. Solving the Points-After-Touchdown Problem"
    },
    "colab": {
      "name": "17 Solving the points-after-touchdown problem.ipynb",
      "provenance": []
    }
  },
  "cells": [
    {
      "cell_type": "markdown",
      "metadata": {
        "id": "0EEdL0_2JpN9",
        "colab_type": "text"
      },
      "source": [
        "__Before you begin, click *Copy to Drive* above and save this notebook to your own Google Drive.__"
      ]
    },
    {
      "cell_type": "markdown",
      "metadata": {
        "id": "Zeh_reDqLMkt",
        "colab_type": "text"
      },
      "source": [
        "__Colaboratory tries to be helpful by collapsing larger sections. You might find it helpful to expand all sections: click View &rarr; Expand sections.__\n"
      ]
    },
    {
      "cell_type": "markdown",
      "metadata": {
        "hide_cell": true,
        "id": "v7U5usOzJe1-",
        "colab_type": "text"
      },
      "source": [
        "<h5 class='prehead'>SA367 &middot; Mathematical Models for Decision Making &middot; Spring 2020 &middot; Uhan</h5>\n",
        "\n",
        "<h5 class='lesson'>Lesson 17.</h5>\n",
        "\n",
        "<h1 class='lesson_title'>Solving the Points-After-Touchdown Problem</h1>"
      ]
    },
    {
      "cell_type": "markdown",
      "metadata": {
        "id": "CQ5iSYrlJe1_",
        "colab_type": "text"
      },
      "source": [
        "* Let's solve the stochastic dynamic program we formulated for the points-after-touchdown problem in Lesson 16.\n",
        "\n",
        "- Before doing anything else, let's install `stochasticdp`, and then import `StochasticDP` from the `stochasticdp` package:"
      ]
    },
    {
      "cell_type": "code",
      "metadata": {
        "id": "0M-BjT8xJe2B",
        "colab_type": "code",
        "colab": {}
      },
      "source": [
        "!pip install stochasticdp\n",
        "from stochasticdp import StochasticDP"
      ],
      "execution_count": 0,
      "outputs": []
    },
    {
      "cell_type": "markdown",
      "metadata": {
        "id": "RWDkYsR_Je2R",
        "colab_type": "text"
      },
      "source": [
        "## Setting up the data"
      ]
    },
    {
      "cell_type": "markdown",
      "metadata": {
        "id": "LLQyrLgvJe2S",
        "colab_type": "text"
      },
      "source": [
        "* In Lesson 16, we worked with the following data:\n",
        "\n",
        "\\begin{alignat*}{2}\n",
        "  T & = \\text{total number of possessions} \\\\[1ex]\n",
        "  p_n & = \\Pr\\{ \\text{1-pt. conv. successful for Team $n$} \\,|\\, \\text{1-pt. conv. attempted by Team $n$} \\} & \\quad & \\text{for } n = \\text{A}, \\text{B} \\\\\n",
        "  q_n & = \\Pr\\{ \\text{2-pt. conv. successful for Team $n$} \\,|\\, \\text{2-pt. conv. attempted by Team $n$} \\} & \\quad & \\text{for } n = \\text{A}, \\text{B} \\\\[1ex]\n",
        "  b_1 & = \\Pr \\{ \\text{1-pt. conv. attempted by Team B} \\}\\\\\n",
        "  b_2 & = \\Pr \\{ \\text{2-pt. conv. attempted by Team B} \\}\\\\[1ex]\n",
        "  t_n & = \\Pr \\{ \\text{TD by Team $n$ in 1 possession} \\}                                                                     & \\quad & \\text{for } n = \\text{A}, \\text{B} \\\\\n",
        "  g_n & = \\Pr \\{ \\text{FG by Team $n$ in 1 possession} \\}                                                                     & \\quad & \\text{for } n = \\text{A}, \\text{B} \\\\\n",
        "  z_n & = \\Pr \\{ \\text{no score by Team $n$ in 1 possession} \\}                                                               & \\quad & \\text{for } n = \\text{A}, \\text{B} \\\\[1ex]\n",
        "  r & = \\Pr \\{ \\text{Team A wins in overtime} \\}\n",
        "\\end{alignat*}\n",
        "\n",
        "* Let's begin by defining numerical values for this data.\n",
        "\n",
        "* We can find most of these values from [Pro Football Reference](http://www.pro-football-reference.com/years/2014/).\n",
        "\n",
        "* For now, let's assume that Team A and Team B are both average 2014 NFL teams.\n",
        "    - Recall that in 2014, 1-pt. conversions started at the 2-yard line.\n",
        "\n",
        "* Also, let's assume that Team A wins in overtime with probability 0.5."
      ]
    },
    {
      "cell_type": "code",
      "metadata": {
        "id": "Z6lm7tBsJe2T",
        "colab_type": "code",
        "colab": {}
      },
      "source": [
        "# Total number of possessions\n",
        "# Drive Averages: 2 * (#Dr) / (G * (# of teams))\n",
        "T = 23\n",
        "\n",
        "# 1-pt. conversion success probabilities\n",
        "# Kicking and Punting: XP%\n",
        "pA = 0.993\n",
        "pB = 0.993\n",
        "\n",
        "# 2-pt. conversion success probabilities\n",
        "# Scoring Offense: 2PM / 2PA\n",
        "qA = 0.483\n",
        "qB = 0.483\n",
        "\n",
        "# 1-pt. vs 2-pt attempts\n",
        "# 1-pt.: Scoring Offense: XPA / (XPA + 2PA)\n",
        "b1 = 0.954\n",
        "b2 = 1 - b1\n",
        "\n",
        "# Possession outcome probabilities - Team A\n",
        "# TD: (Scoring Offense: ATD) / (Drive Averages: #Dr)\n",
        "# FG: (Scoring Offense: FGM) / (Drive Averages: #Dr)\n",
        "tA = 0.218\n",
        "gA = 0.172\n",
        "zA = 1 - tA - gA\n",
        "\n",
        "# Possession outcome probabilities - Team B\n",
        "tB = 0.218\n",
        "gB = 0.172\n",
        "zB = 1 - tB - gB\n",
        "\n",
        "# Probability that Team A wins in OT\n",
        "r = 0.5"
      ],
      "execution_count": 0,
      "outputs": []
    },
    {
      "cell_type": "markdown",
      "metadata": {
        "id": "gRGtFNw1Je2X",
        "colab_type": "text"
      },
      "source": [
        "## Initializing the stochastic dynamic program"
      ]
    },
    {
      "cell_type": "markdown",
      "metadata": {
        "id": "YGtl6g93Je2Y",
        "colab_type": "text"
      },
      "source": [
        "* Stages:\n",
        "\n",
        "\\begin{align*}\n",
        "  t = 0, 1, \\dots, T - 1 \\quad & \\leftrightarrow \\quad \\text{end of possession $t$} \\\\\n",
        "  t = T \\quad                  & \\leftrightarrow \\quad \\text{end of game}\n",
        "\\end{align*}"
      ]
    },
    {
      "cell_type": "code",
      "metadata": {
        "id": "2yF2FT0KJe2a",
        "colab_type": "code",
        "colab": {}
      },
      "source": [
        "# Number of stages\n",
        "number_of_stages = T + 1"
      ],
      "execution_count": 0,
      "outputs": []
    },
    {
      "cell_type": "markdown",
      "metadata": {
        "id": "lYkZCBSMJe2e",
        "colab_type": "text"
      },
      "source": [
        "* States:\n",
        "\n",
        "\\begin{alignat*}{2}\n",
        "  (n, k, d) \\quad \\leftrightarrow \\quad & \\text{Team $n$'s possession just ended} & \\quad & \\text{for } n \\in \\{\\text{A}, \\text{B}\\}      \\\\\n",
        "                                        & \\text{Team $n$ just scored $k$ points}  & \\quad & \\text{for } k \\in \\{0, 3, 6\\}                 \\\\\n",
        "                                        & \\text{Team A is ahead by $d$ points}    & \\quad & \\text{for } d \\in \\{\\dots, -1, 0, 1, \\dots,\\}\n",
        "\\end{alignat*}\n",
        "\n",
        "* In Lesson 16, we did not assume a lower or upper bound on $d$, the values that represent Team A's lead. \n",
        "\n",
        "* Since we need to have a finite number of states, let's assume $-20 \\le d \\le 20$."
      ]
    },
    {
      "cell_type": "markdown",
      "metadata": {
        "id": "fhtO4SQ9Je2f",
        "colab_type": "text"
      },
      "source": [
        "* Some Python reminders:\n",
        "    * We can construct a list by \n",
        "        - first creating an empty list,\n",
        "        - and then adding items to it using `.append()`. \n",
        "    * For example:\n",
        "        ```python\n",
        "        my_list = []\n",
        "        for i in range(10):\n",
        "            my_list.append(i)\n",
        "        ```\n",
        "    * `range(a)` iterates over the integers `0, 1, ..., a - 1`, while `range(a, b)` iterates over the integers `a, a + 1, ..., b - 1`."
      ]
    },
    {
      "cell_type": "code",
      "metadata": {
        "id": "uO7_iDpXJe2f",
        "colab_type": "code",
        "colab": {}
      },
      "source": [
        "# List of states\n",
        "states = []\n",
        "for n in ['A', 'B']:\n",
        "    for k in [0, 3, 6]:\n",
        "        for d in range(-20, 21):\n",
        "            states.append((n, k, d))"
      ],
      "execution_count": 0,
      "outputs": []
    },
    {
      "cell_type": "markdown",
      "metadata": {
        "id": "ZFTW_fktJe2j",
        "colab_type": "text"
      },
      "source": [
        "* _Quick check._ Let's inspect what we just created:"
      ]
    },
    {
      "cell_type": "code",
      "metadata": {
        "scrolled": true,
        "id": "MiD4PTIgJe2j",
        "colab_type": "code",
        "colab": {}
      },
      "source": [
        "# Print the list of states\n",
        "print(states)"
      ],
      "execution_count": 0,
      "outputs": []
    },
    {
      "cell_type": "markdown",
      "metadata": {
        "id": "ge0g2p4DJe2n",
        "colab_type": "text"
      },
      "source": [
        "* Allowable decisions $x_t$ at stage $t$ and state $(n, k, d)$:\n",
        "\n",
        "\\begin{alignat*}{2}\n",
        "  x_t & \\in \\{ 1, 2 \\} & \\quad & \\text{if } n = \\text{A} \\text{ and } k = 6             \\\\\n",
        "  x_t & = \\text{none}  & \\quad & \\text{if } n = \\text{A} \\text{ and } k \\in \\{0, 3\\}    \\\\\n",
        "  x_t & = \\text{none}  & \\quad & \\text{if } n = \\text{B} \\text{ and } k \\in \\{0, 3, 6\\}\n",
        "\\end{alignat*}"
      ]
    },
    {
      "cell_type": "code",
      "metadata": {
        "id": "TgUM4Hu5Je2n",
        "colab_type": "code",
        "colab": {}
      },
      "source": [
        "# List of decisions\n",
        "decisions = [1, 2, 'none']"
      ],
      "execution_count": 0,
      "outputs": []
    },
    {
      "cell_type": "markdown",
      "metadata": {
        "id": "9hZbaGycJe2r",
        "colab_type": "text"
      },
      "source": [
        "* Now we can initialize a `StochasticDP` object called `dp` as follows:"
      ]
    },
    {
      "cell_type": "code",
      "metadata": {
        "id": "-S-etVPzJe2t",
        "colab_type": "code",
        "colab": {}
      },
      "source": [
        "# Initialize stochastic dynamic program - we want to maximize, so minimize = False\n",
        "dp = StochasticDP(number_of_stages, states, decisions, minimize=False)"
      ],
      "execution_count": 0,
      "outputs": []
    },
    {
      "cell_type": "markdown",
      "metadata": {
        "id": "ONrHjenoJe2w",
        "colab_type": "text"
      },
      "source": [
        "## Transition probabilities from stages $t = 0, 1, \\dots, T-2$"
      ]
    },
    {
      "cell_type": "markdown",
      "metadata": {
        "id": "DeAmPLG7Je2w",
        "colab_type": "text"
      },
      "source": [
        "* Let's start with the easier transitions and work our way up to the more complicated ones."
      ]
    },
    {
      "cell_type": "markdown",
      "metadata": {
        "id": "11lxJV9xJe2x",
        "colab_type": "text"
      },
      "source": [
        "### From states $(A, 3, d)$"
      ]
    },
    {
      "cell_type": "markdown",
      "metadata": {
        "id": "5faqjVDZJe2y",
        "colab_type": "text"
      },
      "source": [
        "* Let's consider the transitions from states $(A, 3, d)$ for $d = -20, \\dots, 20$ in stages $t = 0, 1, \\dots, T-2$:\n",
        "\n",
        "![State $(A, 3, d)$](https://github.com/sa367-uhan/points-after-touchdown/blob/colab-master/img/a3d-1.png?raw=1)\n",
        "\n",
        "* Following Lesson 15, we can put in these transitions like this, except we get an error:"
      ]
    },
    {
      "cell_type": "code",
      "metadata": {
        "scrolled": true,
        "id": "-nOjPLSEJe2z",
        "colab_type": "code",
        "colab": {}
      },
      "source": [
        "# Transition probabilities from (A, 3, d) up to stage T - 2\n",
        "for t in range(T - 1):\n",
        "    for d in range(-20, 21):\n",
        "        dp.add_transition(t, ('A', 3, d), 'none', ('B', 6, d - 6), tB, 0)\n",
        "        dp.add_transition(t, ('A', 3, d), 'none', ('B', 3, d - 3), gB, 0)\n",
        "        dp.add_transition(t, ('A', 3, d), 'none', ('B', 0, d), zB, 0)    "
      ],
      "execution_count": 0,
      "outputs": []
    },
    {
      "cell_type": "markdown",
      "metadata": {
        "id": "GS_897SHJe21",
        "colab_type": "text"
      },
      "source": [
        "* Why are we getting an `'Invalid state, stage, or decision'` message?\n",
        "\n",
        "    * Remember that in Lesson 16, we assumed that $d$ could take on an infinite number values.\n",
        "\n",
        "    * On the other hand, here, we have limited $d$ to be between $-20$ and $20$.\n",
        "\n",
        "* How can we work around this?\n",
        "\n",
        "    * Let's do this: if $d$ is supposed to be less than $-20$, then we simply assume that it is the same as having $d = -20$.\n",
        "\n",
        "    * For example, suppose $d = -16$ in the diagram above. Then we can model the transitions like this:\n",
        "\n",
        "![State $(A, 3, -15)$](https://github.com/sa367-uhan/points-after-touchdown/blob/colab-master/img/a3d-2.png?raw=1)"
      ]
    },
    {
      "cell_type": "markdown",
      "metadata": {
        "id": "BmODwHfTJe22",
        "colab_type": "text"
      },
      "source": [
        "* So... let's start over:"
      ]
    },
    {
      "cell_type": "code",
      "metadata": {
        "id": "HCdjRB5XJe23",
        "colab_type": "code",
        "colab": {}
      },
      "source": [
        "# Initialize stochastic dynamic program - we want to maximize, so minimize = False\n",
        "dp = StochasticDP(number_of_stages, states, decisions, minimize=False)"
      ],
      "execution_count": 0,
      "outputs": []
    },
    {
      "cell_type": "markdown",
      "metadata": {
        "id": "-4-9o7j9Je27",
        "colab_type": "text"
      },
      "source": [
        "* Using the idea above, we can write the following code to represent the transitions from states $(A, 3, d)$ for $d = -20, \\dots, 20$ and $t = 0, 1, \\dots, T - 2$:"
      ]
    },
    {
      "cell_type": "code",
      "metadata": {
        "id": "0zA2wxccJe28",
        "colab_type": "code",
        "colab": {}
      },
      "source": [
        "# Transition probabilities from (A, 3, d) up to stage T - 2\n",
        "for t in range(T - 1):\n",
        "    for d in range(-20, 21):\n",
        "        dp.add_transition(t, ('A', 3, d), 'none', ('B', 6, max(d - 6, -20)), tB, 0)\n",
        "        dp.add_transition(t, ('A', 3, d), 'none', ('B', 3, max(d - 3, -20)), gB, 0)\n",
        "        dp.add_transition(t, ('A', 3, d), 'none', ('B', 0, d), zB, 0)        "
      ],
      "execution_count": 0,
      "outputs": []
    },
    {
      "cell_type": "markdown",
      "metadata": {
        "id": "xManthbpJe2-",
        "colab_type": "text"
      },
      "source": [
        "### From states $(A, 0, d)$"
      ]
    },
    {
      "cell_type": "markdown",
      "metadata": {
        "id": "t_OQzWHKJe2_",
        "colab_type": "text"
      },
      "source": [
        "* Similarly, for the transitions from states $(A, 0, d)$ for $d = -20, \\dots, 20$ in stages $t = 0, 1, \\dots, T-2$:\n",
        "\n",
        "![State $(A, 0, d)$](https://github.com/sa367-uhan/points-after-touchdown/blob/colab-master/img/a0d.png?raw=1)"
      ]
    },
    {
      "cell_type": "code",
      "metadata": {
        "id": "ECRP7-m0Je2_",
        "colab_type": "code",
        "colab": {}
      },
      "source": [
        "# Transition probabilities from (A, 0, d) up to stage T - 2\n",
        "for t in range(T - 1):\n",
        "    for d in range(-20, 21):\n",
        "        dp.add_transition(t, ('A', 0, d), 'none', ('B', 6, max(d - 6, -20)), tB, 0)\n",
        "        dp.add_transition(t, ('A', 0, d), 'none', ('B', 3, max(d - 3, -20)), gB, 0)\n",
        "        dp.add_transition(t, ('A', 0, d), 'none', ('B', 0, d), zB, 0)"
      ],
      "execution_count": 0,
      "outputs": []
    },
    {
      "cell_type": "markdown",
      "metadata": {
        "id": "Krc__v8LJe3B",
        "colab_type": "text"
      },
      "source": [
        "### From states $(B, 3, d)$"
      ]
    },
    {
      "cell_type": "markdown",
      "metadata": {
        "id": "ifbg9H8IJe3B",
        "colab_type": "text"
      },
      "source": [
        "* Next, the transitions from states $(B, 3, d)$ for $d = -20, \\dots, 20$ in stages $t = 0, 1, \\dots, T-2$:\n",
        "\n",
        "![State $(B, 3, d)$](https://github.com/sa367-uhan/points-after-touchdown/blob/colab-master/img/b3d-1.png?raw=1)\n",
        "\n",
        "* We run into a similar problem: if we're not careful, we can end up with values of $d$ greater than 20.\n",
        "\n",
        "* Let's do this: if $d$ is supposed to be greater than $20$, then we simply assume that it is the same as having $d = 20$, like this: \n",
        "\n",
        "![State $(B, 3, 15)$](https://github.com/sa367-uhan/points-after-touchdown/blob/colab-master/img/b3d-2.png?raw=1)"
      ]
    },
    {
      "cell_type": "code",
      "metadata": {
        "id": "jYQvLNVwJe3C",
        "colab_type": "code",
        "colab": {}
      },
      "source": [
        "# Transition probabilities from (B, 3, d) up to stage T - 2\n",
        "for t in range(T - 1):\n",
        "    for d in range(-20, 21):\n",
        "        dp.add_transition(t, ('B', 3, d), 'none', ('A', 6, min(d + 6, 20)), tA, 0)\n",
        "        dp.add_transition(t, ('B', 3, d), 'none', ('A', 3, min(d + 3, 20)), gA, 0)\n",
        "        dp.add_transition(t, ('B', 3, d), 'none', ('A', 0, d), zA, 0)"
      ],
      "execution_count": 0,
      "outputs": []
    },
    {
      "cell_type": "markdown",
      "metadata": {
        "id": "7AQVZD0xJe3E",
        "colab_type": "text"
      },
      "source": [
        "### From states $(B, 0, d)$"
      ]
    },
    {
      "cell_type": "markdown",
      "metadata": {
        "id": "JdVc0GM5Je3E",
        "colab_type": "text"
      },
      "source": [
        "* Next, the transitions from states $(B, 0, d)$ for $d = -20, \\dots, 20$ in stages $t = 0, 1, \\dots, T-2$:\n",
        "\n",
        "![State $(B, 0, d)$](https://github.com/sa367-uhan/points-after-touchdown/blob/colab-master/img/b0d.png?raw=1)"
      ]
    },
    {
      "cell_type": "code",
      "metadata": {
        "id": "m4sT6h2dJe3F",
        "colab_type": "code",
        "colab": {}
      },
      "source": [
        "# Transition probabilities from (B, 0, d) up to stage T - 2\n",
        "for t in range(T - 1):\n",
        "    for d in range(-20, 21):\n",
        "        dp.add_transition(t, ('B', 0, d), 'none', ('A', 6, min(d + 6, 20)), tA, 0)\n",
        "        dp.add_transition(t, ('B', 0, d), 'none', ('A', 3, min(d + 3, 20)), gA, 0)\n",
        "        dp.add_transition(t, ('B', 0, d), 'none', ('A', 0, d), zA, 0)"
      ],
      "execution_count": 0,
      "outputs": []
    },
    {
      "cell_type": "markdown",
      "metadata": {
        "id": "HWWTqHrOJe3K",
        "colab_type": "text"
      },
      "source": [
        "### From states $(A, 6, d)$"
      ]
    },
    {
      "cell_type": "markdown",
      "metadata": {
        "id": "GkR5af7RJe3L",
        "colab_type": "text"
      },
      "source": [
        "* Next up: transitions from the state $(A, 6, d)$ for $d = -20, \\dots, 20$ in stages $t = 0, 1, \\dots, T-2$:\n",
        "\n",
        "![State $(A, 6, d)$](https://github.com/sa367-uhan/points-after-touchdown/blob/colab-master/img/a6d-1.png?raw=1)"
      ]
    },
    {
      "cell_type": "markdown",
      "metadata": {
        "id": "EdaI6RGXJe3L",
        "colab_type": "text"
      },
      "source": [
        "* In this case, we can also have values of $d$ lower than $-20$ or higher than $20$ if we're not careful.\n",
        "\n",
        "* Because of this, we can also have multiple transitions to the same state, like this:\n",
        "\n",
        "![State $(A, 6, d)$](https://github.com/sa367-uhan/points-after-touchdown/blob/colab-master/img/a6d-2.png?raw=1)\n",
        "\n",
        "* To take care of this, we simply need to merge these transitions.\n",
        "\n",
        "* The code becomes a bit more complicated, though, since we need to consider various cases.\n",
        "\n",
        "* First, let's consider the 1-point conversion decision and break down the cases depending on the value of $d$:"
      ]
    },
    {
      "cell_type": "code",
      "metadata": {
        "id": "1LWiMrluJe3M",
        "colab_type": "code",
        "colab": {}
      },
      "source": [
        "# Remember: \n",
        "# dp.add_transition(stage, from_state, decision, to_state, probability, contribution)\n",
        "\n",
        "# Transition probabilities from (A, 6, d) up to stage T - 2\n",
        "# Decision: 1-point conversion\n",
        "for t in range(T - 1):\n",
        "    for d in range(-20, 21):\n",
        "\n",
        "        if d - 5 <= -20:\n",
        "            dp.add_transition(t, ('A', 6, d), 1, ('B', 6, -20), (1 - pA) * tB + pA * tB, 0)\n",
        "        else:\n",
        "            dp.add_transition(t, ('A', 6, d), 1, ('B', 6, max(d - 6, -20)), (1 - pA) * tB, 0)\n",
        "            dp.add_transition(t, ('A', 6, d), 1, ('B', 6, max(d - 5, -20)), pA * tB, 0)\n",
        "        \n",
        "        if d - 2 <= -20:\n",
        "            dp.add_transition(t, ('A', 6, d), 1, ('B', 3, -20), (1 - pA) * gB + pA * gB, 0)\n",
        "        else:\n",
        "            dp.add_transition(t, ('A', 6, d), 1, ('B', 3, max(d - 3, -20)), (1 - pA) * gB, 0)\n",
        "            dp.add_transition(t, ('A', 6, d), 1, ('B', 3, max(d - 2, -20)), pA * gB, 0)\n",
        "        \n",
        "        if d >= 20:\n",
        "            dp.add_transition(t, ('A', 6, d), 1, ('B', 0, 20), (1 - pA) * zB + pA * zB, 0)\n",
        "        else:\n",
        "            dp.add_transition(t, ('A', 6, d), 1, ('B', 0, min(d, 20)), (1 - pA) * zB, 0)\n",
        "            dp.add_transition(t, ('A', 6, d), 1, ('B', 0, min(d + 1, 20)), pA * zB, 0)"
      ],
      "execution_count": 0,
      "outputs": []
    },
    {
      "cell_type": "markdown",
      "metadata": {
        "id": "0UZQKanWJe3O",
        "colab_type": "text"
      },
      "source": [
        "* Let's do the same for the 2-point conversion decision:"
      ]
    },
    {
      "cell_type": "code",
      "metadata": {
        "id": "uliDP3AJJe3O",
        "colab_type": "code",
        "colab": {}
      },
      "source": [
        "# Remember: \n",
        "# dp.add_transition(stage, from_state, decision, to_state, probability, contribution)\n",
        "\n",
        "# Transition probabilities from (A, 6, d) up to stage T - 2\n",
        "# Decision: 2-point conversion\n",
        "for t in range(T - 1):\n",
        "    for d in range(-20, 21):\n",
        "\n",
        "        if d - 4 <= -20:\n",
        "            dp.add_transition(t, ('A', 6, d), 2, ('B', 6, -20), (1 - qA) * tB + qA * tB, 0)\n",
        "        else:\n",
        "            dp.add_transition(t, ('A', 6, d), 2, ('B', 6, max(d - 6, -20)), (1 - qA) * tB, 0)\n",
        "            dp.add_transition(t, ('A', 6, d), 2, ('B', 6, max(d - 4, -20)), qA * tB, 0)\n",
        "        \n",
        "        if d - 1 <= -20:\n",
        "            dp.add_transition(t, ('A', 6, d), 2, ('B', 3, -20), (1 - qA) * gB + qA * gB, 0)\n",
        "        else:\n",
        "            dp.add_transition(t, ('A', 6, d), 2, ('B', 3, max(d - 3, -20)), (1 - qA) * gB, 0)\n",
        "            dp.add_transition(t, ('A', 6, d), 2, ('B', 3, max(d - 1, -20)), qA * gB, 0)\n",
        "            \n",
        "        if d >= 20:\n",
        "            dp.add_transition(t, ('A', 6, d), 2, ('B', 0, 20),  (1 - qA) * zB + qA * zB, 0)\n",
        "        else:\n",
        "            dp.add_transition(t, ('A', 6, d), 2, ('B', 0, min(d, 20)), (1 - qA) * zB, 0)\n",
        "            dp.add_transition(t, ('A', 6, d), 2, ('B', 0, min(d + 2, 20)), qA * zB, 0)"
      ],
      "execution_count": 0,
      "outputs": []
    },
    {
      "cell_type": "markdown",
      "metadata": {
        "id": "-42I6dBzJe3R",
        "colab_type": "text"
      },
      "source": [
        "### From states $(B, 6, d)$"
      ]
    },
    {
      "cell_type": "markdown",
      "metadata": {
        "id": "H7ohpD0cJe3R",
        "colab_type": "text"
      },
      "source": [
        "* We need to take similar care for the transitions from states $(B, 6, d)$ for $d = -20, \\dots, 20$ in stages $t = 0, 1, \\dots, T-2$:\n",
        "\n",
        "![State $(B, 6, d)$](https://github.com/sa367-uhan/points-after-touchdown/blob/colab-master/img/b6d.png?raw=1)"
      ]
    },
    {
      "cell_type": "code",
      "metadata": {
        "id": "rJQ1gY1zJe3R",
        "colab_type": "code",
        "colab": {}
      },
      "source": [
        "# Transition probabilities from (B, 6, d) up to stage T - 2\n",
        "for t in range(T - 1):\n",
        "    for d in range(-20, 21):\n",
        "        if d + 4 >= 20:\n",
        "            dp.add_transition(t, ('B', 6, d), 'none', ('A', 6, 20), (1 - b1*pB - b2*qB) * tA + b1*pB*tA + b2*qB*tA, 0)\n",
        "        elif d + 5 >= 20:\n",
        "            dp.add_transition(t, ('B', 6, d), 'none', ('A', 6, 20), (1 - b1*pB - b2*qB) * tA + b1*pB*tA, 0)    \n",
        "            dp.add_transition(t, ('B', 6, d), 'none', ('A', 6, min(d + 4, 20)), b2*qB*tA, 0)\n",
        "        else:\n",
        "            dp.add_transition(t, ('B', 6, d), 'none', ('A', 6, min(d + 6, 20)), (1 - b1*pB - b2*qB) * tA, 0)\n",
        "            dp.add_transition(t, ('B', 6, d), 'none', ('A', 6, min(d + 5, 20)), b1*pB*tA, 0)\n",
        "            dp.add_transition(t, ('B', 6, d), 'none', ('A', 6, min(d + 4, 20)), b2*qB*tA, 0)\n",
        "\n",
        "        if d + 1 >= 20:\n",
        "            dp.add_transition(t, ('B', 6, d), 'none', ('A', 3, 20), (1 - b1*pB - b2*qB) * gA + b1*pB*gA + b2*qB*gA, 0)\n",
        "        elif d + 2 >= 20:\n",
        "            dp.add_transition(t, ('B', 6, d), 'none', ('A', 3, 20), (1 - b1*pB - b2*qB) * gA + b1*pB*gA, 0)    \n",
        "            dp.add_transition(t, ('B', 6, d), 'none', ('A', 3, min(d + 1, 20)), b2*qB*gA, 0)\n",
        "        else:\n",
        "            dp.add_transition(t, ('B', 6, d), 'none', ('A', 3, min(d + 3, 20)), (1 - b1*pB - b2*qB) * gA, 0)\n",
        "            dp.add_transition(t, ('B', 6, d), 'none', ('A', 3, min(d + 2, 20)), b1*pB*gA, 0)\n",
        "            dp.add_transition(t, ('B', 6, d), 'none', ('A', 3, min(d + 1, 20)), b2*qB*gA, 0)\n",
        "            \n",
        "        if d <= -20:\n",
        "            dp.add_transition(t, ('B', 6, d), 'none', ('A', 0, -20), (1 - b1*pB - b2*qB) * zA + b1*pB*zA + b2*qB*zA, 0)\n",
        "        elif d - 1 <= -20:\n",
        "            dp.add_transition(t, ('B', 6, d), 'none', ('A', 0, d), (1 - b1*pB - b2*qB) * zA, 0)\n",
        "            dp.add_transition(t, ('B', 6, d), 'none', ('A', 0, -20), b1*pB*zA + b2*qB*zA, 0)    \n",
        "        else:\n",
        "            dp.add_transition(t, ('B', 6, d), 'none', ('A', 0, d), (1 - b1*pB - b2*qB) * zA, 0)\n",
        "            dp.add_transition(t, ('B', 6, d), 'none', ('A', 0, max(d - 1, -20)), b1*pB*zA, 0)\n",
        "            dp.add_transition(t, ('B', 6, d), 'none', ('A', 0, max(d - 2, - 20)), b2*qB*zA, 0)"
      ],
      "execution_count": 0,
      "outputs": []
    },
    {
      "cell_type": "markdown",
      "metadata": {
        "id": "2FlayogDJe3V",
        "colab_type": "text"
      },
      "source": [
        "## Transition probabilities from stage $T - 1$"
      ]
    },
    {
      "cell_type": "markdown",
      "metadata": {
        "id": "7DWSuSFCJe3W",
        "colab_type": "text"
      },
      "source": [
        "* Now, we can tackle the transitions from stage $T-1$.\n",
        "\n",
        "* From states $(A, 6, d)$ for $d = -20, \\dots, 20$ in stage $T - 1$:\n",
        "\n",
        "<center><img src=\"https://github.com/sa367-uhan/points-after-touchdown/blob/colab-master/img/last_a6d.png?raw=1\" width=\"80%\"></center>"
      ]
    },
    {
      "cell_type": "code",
      "metadata": {
        "id": "t7x8_4fEJe3W",
        "colab_type": "code",
        "colab": {}
      },
      "source": [
        "# Transition probabilities from (A, 6, d) in stage T - 1\n",
        "for d in range(-20, 21):\n",
        "    # 1-point conversion\n",
        "    if d >= 20:\n",
        "        dp.add_transition(T - 1, ('A', 6, d), 1, ('A', 6, 20), (1 - pA) + pA, 0)\n",
        "    else:\n",
        "        dp.add_transition(T - 1, ('A', 6, d), 1, ('A', 6, d), 1 - pA, 0)\n",
        "        dp.add_transition(T - 1, ('A', 6, d), 1, ('A', 6, min(d + 1, 20)), pA, 0)\n",
        "\n",
        "    # 2-point conversion\n",
        "    if d >= 20:\n",
        "        dp.add_transition(T - 1, ('A', 6, d), 2, ('A', 6, 20), (1 - qA) + qA, 0)\n",
        "    else:\n",
        "        dp.add_transition(T - 1, ('A', 6, d), 2, ('A', 6, d), 1 - qA, 0)\n",
        "        dp.add_transition(T - 1, ('A', 6, d), 2, ('A', 6, min(d + 2, 20)), qA, 0)"
      ],
      "execution_count": 0,
      "outputs": []
    },
    {
      "cell_type": "markdown",
      "metadata": {
        "id": "gxFNt1nuJe3b",
        "colab_type": "text"
      },
      "source": [
        "* From states $(A, 3, d)$ for $d = -20, \\dots, 20$ in stage $T - 1$:\n",
        "\n",
        "<center><img src=\"https://github.com/sa367-uhan/points-after-touchdown/blob/colab-master/img/last_a3d.png?raw=1\" width=\"70%\"></center>"
      ]
    },
    {
      "cell_type": "code",
      "metadata": {
        "id": "be1AFCPVJe3c",
        "colab_type": "code",
        "colab": {}
      },
      "source": [
        "# Transition probabilities from (A, 3, d) in stage T - 1\n",
        "for d in range(-20, 21):\n",
        "    dp.add_transition(T - 1, ('A', 3, d), 'none', ('A', 3, d), 1, 0)"
      ],
      "execution_count": 0,
      "outputs": []
    },
    {
      "cell_type": "markdown",
      "metadata": {
        "id": "hQkz_u8_Je3d",
        "colab_type": "text"
      },
      "source": [
        "* From states $(A, 0, d)$ for $d = -20, \\dots, 20$ in stage $T - 1$:\n",
        "\n",
        "<center><img src=\"https://github.com/sa367-uhan/points-after-touchdown/blob/colab-master/img/last_a0d.png?raw=1\" width=\"70%\"></center>"
      ]
    },
    {
      "cell_type": "code",
      "metadata": {
        "id": "YC_-5sY2Je3e",
        "colab_type": "code",
        "colab": {}
      },
      "source": [
        "# Transition probabilities from (A, 0, d) in stage T - 1\n",
        "for d in range(-20, 21):\n",
        "    dp.add_transition(T - 1, ('A', 0, d), 'none', ('A', 0, d), 1, 0)"
      ],
      "execution_count": 0,
      "outputs": []
    },
    {
      "cell_type": "markdown",
      "metadata": {
        "id": "yvAjum-hJe3g",
        "colab_type": "text"
      },
      "source": [
        "* From states $(B, 6, d)$ for $d = -20, \\dots, 20$ in stage $T - 1$:\n",
        "\n",
        "<center><img src=\"https://github.com/sa367-uhan/points-after-touchdown/blob/colab-master/img/last_b6d.png?raw=1\" width=\"90%\"></center>"
      ]
    },
    {
      "cell_type": "code",
      "metadata": {
        "id": "FCq2QXodJe3g",
        "colab_type": "code",
        "colab": {}
      },
      "source": [
        "# Transition probabilities from (B, 6, d) in stage T - 1\n",
        "for d in range(-20, 21):\n",
        "    if d <= -20:\n",
        "        dp.add_transition(T - 1, ('B', 6, d), 'none', ('B', 6, -20), 1, 0)\n",
        "    elif d <= -19:\n",
        "        dp.add_transition(T - 1, ('B', 6, d), 'none', ('B', 6, -20), b1*pB + b2*qB, 0)\n",
        "        dp.add_transition(T - 1, ('B', 6, d), 'none', ('B', 6, d), 1 - b1*pB - b2*qB, 0)\n",
        "    else:        \n",
        "        dp.add_transition(T - 1, ('B', 6, d), 'none', ('B', 6, max(d - 2, -20)), b2*qB, 0)\n",
        "        dp.add_transition(T - 1, ('B', 6, d), 'none', ('B', 6, max(d - 1, -20)), b1*pB, 0)\n",
        "        dp.add_transition(T - 1, ('B', 6, d), 'none', ('B', 6, d), 1 - b1*pB - b2*qB, 0)"
      ],
      "execution_count": 0,
      "outputs": []
    },
    {
      "cell_type": "markdown",
      "metadata": {
        "id": "hVtF2eKYJe3i",
        "colab_type": "text"
      },
      "source": [
        "* From states $(B, 3, d)$ for $d = -20, \\dots, 20$ in stage $T - 1$:\n",
        "\n",
        "<center><img src=\"https://github.com/sa367-uhan/points-after-touchdown/blob/colab-master/img/last_b3d.png?raw=1\" width=\"70%\"></center>"
      ]
    },
    {
      "cell_type": "code",
      "metadata": {
        "id": "QN9eYU_IJe3i",
        "colab_type": "code",
        "colab": {}
      },
      "source": [
        "# Transition probabilities from (B, 3, d) in stage T - 1\n",
        "for d in range(-20, 21):\n",
        "    dp.add_transition(T - 1, ('B', 3, d), 'none', ('B', 3, d), 1, 0)"
      ],
      "execution_count": 0,
      "outputs": []
    },
    {
      "cell_type": "markdown",
      "metadata": {
        "id": "zwaLQrPjJe3j",
        "colab_type": "text"
      },
      "source": [
        "* From states $(B, 0, d)$ for $d = -20, \\dots, 20$ in stage $T - 1$:\n",
        "\n",
        "<center><img src=\"https://github.com/sa367-uhan/points-after-touchdown/blob/colab-master/img/last_b0d.png?raw=1\" width=\"70%\"></center>"
      ]
    },
    {
      "cell_type": "code",
      "metadata": {
        "id": "WKy4sgo3Je3k",
        "colab_type": "code",
        "colab": {}
      },
      "source": [
        "# Transition probabilities from (B, 0, d) in stage T - 1\n",
        "for d in range(-20, 21):\n",
        "    dp.add_transition(T - 1, ('B', 0, d), 'none', ('B', 0, d), 1, 0)"
      ],
      "execution_count": 0,
      "outputs": []
    },
    {
      "cell_type": "markdown",
      "metadata": {
        "id": "8xA3rEhwJe3l",
        "colab_type": "text"
      },
      "source": [
        "## Boundary conditions"
      ]
    },
    {
      "cell_type": "markdown",
      "metadata": {
        "id": "po38Yae7Je3m",
        "colab_type": "text"
      },
      "source": [
        "* Finally, the boundary conditions:\n",
        "\n",
        "$$\n",
        "f_T(n, k, d) = \\begin{cases}\n",
        "1 & \\text{if } d > 0\\\\\n",
        "r & \\text{if } d = 0\\\\\n",
        "0 & \\text{if } d < 0\n",
        "\\end{cases}\n",
        "\\qquad \\text{for } n \\in \\{\\text{A}, \\text{B}\\}, k \\in \\{0, 3, 6\\}, d = -20,\\dots,20\n",
        "$$"
      ]
    },
    {
      "cell_type": "code",
      "metadata": {
        "id": "_vX1zkqbJe3m",
        "colab_type": "code",
        "colab": {}
      },
      "source": [
        "# Boundary conditions\n",
        "for n in ['A', 'B']:\n",
        "    for k in [0, 3, 6]:\n",
        "        for d in range(-20, 21):\n",
        "            if d > 0:\n",
        "                dp.add_boundary(state=(n, k, d), value=1)\n",
        "            elif d == 0:\n",
        "                dp.add_boundary(state=(n, k, d), value=r)\n",
        "            else:\n",
        "                dp.add_boundary(state=(n, k, d), value=0)"
      ],
      "execution_count": 0,
      "outputs": []
    },
    {
      "cell_type": "markdown",
      "metadata": {
        "id": "is4BX_7DJe3o",
        "colab_type": "text"
      },
      "source": [
        "## Solving the stochastic dynamic program"
      ]
    },
    {
      "cell_type": "code",
      "metadata": {
        "id": "PhsK8JIZJe3o",
        "colab_type": "code",
        "colab": {}
      },
      "source": [
        "# Solve the stochastic dynamic program\n",
        "value, policy = dp.solve()"
      ],
      "execution_count": 0,
      "outputs": []
    },
    {
      "cell_type": "markdown",
      "metadata": {
        "id": "zBk7SxIMJe3q",
        "colab_type": "text"
      },
      "source": [
        "## Interpreting output from the stochastic dynamic program"
      ]
    },
    {
      "cell_type": "markdown",
      "metadata": {
        "id": "rPe2WEP8Je3q",
        "colab_type": "text"
      },
      "source": [
        "* What is the maximum probability that Team A wins after scoring a touchdown in the first possession?"
      ]
    },
    {
      "cell_type": "code",
      "metadata": {
        "id": "RchXo4bSJe3s",
        "colab_type": "code",
        "colab": {}
      },
      "source": [
        "# Maximum probability that Team A wins after scoring a touchdown in the first possession\n",
        "print(value[0, ('A', 6, 6)])"
      ],
      "execution_count": 0,
      "outputs": []
    },
    {
      "cell_type": "markdown",
      "metadata": {
        "id": "7l1cJp99Je3v",
        "colab_type": "text"
      },
      "source": [
        "* What should Team A do after scoring a touchdown in the first possession?"
      ]
    },
    {
      "cell_type": "code",
      "metadata": {
        "id": "_dWrnyNSJe3w",
        "colab_type": "code",
        "colab": {}
      },
      "source": [
        "# Optimal strategy for Team A after scoring a touchdown in the first possession\n",
        "policy[0, ('A', 6, 6)]"
      ],
      "execution_count": 0,
      "outputs": []
    },
    {
      "cell_type": "markdown",
      "metadata": {
        "id": "b9OXwP3WJe3y",
        "colab_type": "text"
      },
      "source": [
        "* Suppose Team A just scored a touchdown, making it 1 point behind. How does (1) the probability of Team A winning and (2) Team A's optimal strategy change depending on which possession this happened? Why do the trends you identified make sense?\n",
        "\n",
        "    * What if Team A were 4 points ahead?\n",
        "\n",
        "- _Hint._ Write a `for` loop that prints out the information you want."
      ]
    },
    {
      "cell_type": "code",
      "metadata": {
        "id": "_Frci8dmJe3y",
        "colab_type": "code",
        "colab": {}
      },
      "source": [
        "d = -1\n",
        "for t in range(number_of_stages - 1):\n",
        "    print(f\"Points ahead: {d}   Possession: {t}    Go for: {policy[t, ('A', 6, d)]}   Pr(win): {value[t, ('A', 6, d)]}\")"
      ],
      "execution_count": 0,
      "outputs": []
    }
  ]
}