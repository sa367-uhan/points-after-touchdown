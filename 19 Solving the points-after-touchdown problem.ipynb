{
 "cells": [
  {
   "cell_type": "markdown",
   "metadata": {
    "hide_cell": true
   },
   "source": [
    "<span class='note'>*Make me look good.* Click on the cell below and press <kbd>Ctrl</kbd>-<kbd>Enter</kbd>.</span>"
   ]
  },
  {
   "cell_type": "code",
   "execution_count": null,
   "metadata": {
    "collapsed": false,
    "hide_cell": true
   },
   "outputs": [],
   "source": [
    "from IPython.core.display import HTML\n",
    "def css_styling():\n",
    "    styles = open('css/custom.css', 'r').read()\n",
    "    return HTML(styles)\n",
    "css_styling()"
   ]
  },
  {
   "cell_type": "markdown",
   "metadata": {
    "hide_cell": true
   },
   "source": [
    "<h5 class='prehead'>SA367 &middot; Mathematical Models for Decision Making &middot; Spring 2017 &middot; Uhan</h5>\n",
    "\n",
    "<h5 class='lesson'>Lesson 19.</h5>\n",
    "\n",
    "<h1 class='lesson_title'>Solving the points-after-touchdown problem</h1>"
   ]
  },
  {
   "cell_type": "markdown",
   "metadata": {},
   "source": [
    "## Before we begin &mdash; upgrading and importing `stochasticdp`"
   ]
  },
  {
   "cell_type": "markdown",
   "metadata": {},
   "source": [
    "* I've made some improvements to the internals of `stochasticdp`.\n",
    "\n",
    "* To upgrade, open a WinPython Command Prompt and type:\n",
    "\n",
    "```\n",
    "pip install --upgrade stochasticdp\n",
    "```\n",
    "\n",
    "* Now we can import `StochasticDP` from `stochasticdp`:"
   ]
  },
  {
   "cell_type": "code",
   "execution_count": null,
   "metadata": {
    "collapsed": true
   },
   "outputs": [],
   "source": [
    "from stochasticdp import StochasticDP"
   ]
  },
  {
   "cell_type": "markdown",
   "metadata": {},
   "source": [
    "## Setting up the data"
   ]
  },
  {
   "cell_type": "markdown",
   "metadata": {},
   "source": [
    "* In Lesson 18, we worked with the following data:\n",
    "\n",
    "\\begin{alignat*}{2}\n",
    "  T & = \\text{total number of possessions} \\\\[1ex]\n",
    "  p_n & = \\Pr\\{ \\text{1-pt. conv. successful for Team $n$} \\,|\\, \\text{1-pt. conv. attempted by Team $n$} \\} & \\quad & \\text{for } n = \\text{A}, \\text{B} \\\\\n",
    "  q_n & = \\Pr\\{ \\text{2-pt. conv. successful for Team $n$} \\,|\\, \\text{2-pt. conv. attempted by Team $n$} \\} & \\quad & \\text{for } n = \\text{A}, \\text{B} \\\\[1ex]\n",
    "  b_1 & = \\Pr \\{ \\text{1-pt. conv. attempted by Team B} \\}\\\\\n",
    "  b_2 & = \\Pr \\{ \\text{2-pt. conv. attempted by Team B} \\}\\\\[1ex]\n",
    "  t_n & = \\Pr \\{ \\text{TD by Team $n$ in 1 possession} \\}                                                                     & \\quad & \\text{for } n = \\text{A}, \\text{B} \\\\\n",
    "  g_n & = \\Pr \\{ \\text{FG by Team $n$ in 1 possession} \\}                                                                     & \\quad & \\text{for } n = \\text{A}, \\text{B} \\\\\n",
    "  z_n & = \\Pr \\{ \\text{no score by Team $n$ in 1 possession} \\}                                                               & \\quad & \\text{for } n = \\text{A}, \\text{B} \\\\[1ex]\n",
    "  r & = \\Pr \\{ \\text{Team A wins in overtime} \\}\n",
    "\\end{alignat*}\n",
    "\n",
    "* Let's begin by defining numerical values for this data.\n",
    "\n",
    "* We can find most of these values from [Pro Football Reference](http://www.pro-football-reference.com/years/2014/).\n",
    "\n",
    "* For now, let's assume that Team A and Team B are both average 2014 NFL teams.\n",
    "    - Recall that in 2014, 1-pt. conversions started at the 2-yard line.\n",
    "\n",
    "* Also, let's assume that Team A wins in overtime with probability 0.5."
   ]
  },
  {
   "cell_type": "code",
   "execution_count": null,
   "metadata": {
    "collapsed": true
   },
   "outputs": [],
   "source": [
    "# Total number of possessions\n",
    "# Drive Averages: 2 * (#Dr) / (G * (# of teams))\n",
    "T = 23\n",
    "\n",
    "# 1-pt. conversion success probabilities\n",
    "# Kicking and Punting: XP%\n",
    "pA = 0.993\n",
    "pB = 0.993\n",
    "\n",
    "# 2-pt. conversion success probabilities\n",
    "# Scoring Offense: 2PM / 2PA\n",
    "qA = 0.483\n",
    "qB = 0.483\n",
    "\n",
    "# 1-pt. vs 2-pt attempts\n",
    "# 1-pt.: Scoring Offense: XPA / (XPA + 2PA)\n",
    "b1 = 0.954\n",
    "b2 = 1 - b1\n",
    "\n",
    "# Possession outcome probabilities - Team A\n",
    "# TD: (Scoring Offense: ATD) / (Drive Averages: #Dr)\n",
    "# FG: (Scoring Offense: FGM) / (Drive Averages: #Dr)\n",
    "tA = 0.218\n",
    "gA = 0.172\n",
    "zA = 1 - tA - gA\n",
    "\n",
    "# Possession outcome probabilities - Team B\n",
    "tB = 0.218\n",
    "gB = 0.172\n",
    "zB = 1 - tB - gB\n",
    "\n",
    "# Probability that Team A wins in OT\n",
    "r = 0.5"
   ]
  },
  {
   "cell_type": "markdown",
   "metadata": {},
   "source": [
    "## Initializing the stochastic dynamic program"
   ]
  },
  {
   "cell_type": "markdown",
   "metadata": {},
   "source": [
    "* Stages:\n",
    "\n",
    "\\begin{align*}\n",
    "  t = 0, 1, \\dots, T - 1 \\quad & \\leftrightarrow \\quad \\text{end of possession $t$} \\\\\n",
    "  t = T \\quad                  & \\leftrightarrow \\quad \\text{end of game}\n",
    "\\end{align*}"
   ]
  },
  {
   "cell_type": "code",
   "execution_count": null,
   "metadata": {
    "collapsed": true
   },
   "outputs": [],
   "source": [
    "# Number of stages\n",
    "number_of_stages = T + 1"
   ]
  },
  {
   "cell_type": "markdown",
   "metadata": {},
   "source": [
    "* States:\n",
    "\n",
    "\\begin{alignat*}{2}\n",
    "  (n, k, d) \\quad \\leftrightarrow \\quad & \\text{Team $n$'s possession just ended} & \\quad & \\text{for } n \\in \\{\\text{A}, \\text{B}\\}      \\\\\n",
    "                                        & \\text{Team $n$ just scored $k$ points}  & \\quad & \\text{for } k \\in \\{0, 3, 6\\}                 \\\\\n",
    "                                        & \\text{Team A is ahead by $d$ points}    & \\quad & \\text{for } d \\in \\{\\dots, -1, 0, 1, \\dots,\\}\n",
    "\\end{alignat*}\n",
    "\n",
    "* In Lesson 18, we did not assume a lower or upper bound on $d$, the values that represent Team A's lead. \n",
    "\n",
    "* Since we need to have a finite number of states, let's assume $-20 \\le d \\le 20$."
   ]
  },
  {
   "cell_type": "markdown",
   "metadata": {},
   "source": [
    "* Some Python reminders:\n",
    "    * We can construct a list by \n",
    "        - first creating an empty list,\n",
    "        - and then adding items to it using `.append()`. \n",
    "    * For example:\n",
    "    ```python\n",
    "    my_list = []\n",
    "    for i in range(10):\n",
    "        my_list.append(i)\n",
    "    ```\n",
    "    * `range(a)` iterates over the integers `0, 1, ..., a - 1`, while `range(a, b)` iterates over the integers `a, a + 1, ..., b - 1`."
   ]
  },
  {
   "cell_type": "code",
   "execution_count": null,
   "metadata": {
    "collapsed": true
   },
   "outputs": [],
   "source": [
    "# Maximum lead for Team A\n",
    "max_d = 20\n",
    "\n",
    "# List of states\n",
    "states = []\n",
    "for n in ['A', 'B']:\n",
    "    for k in [0, 3, 6]:\n",
    "        for d in range(-max_d, max_d + 1):\n",
    "            states.append((n, k, d))"
   ]
  },
  {
   "cell_type": "markdown",
   "metadata": {},
   "source": [
    "* Allowable decisions $x_t$ at stage $t$ and state $(n, k, d)$:\n",
    "\n",
    "\\begin{alignat*}{2}\n",
    "  x_t & \\in \\{ 1, 2 \\} & \\quad & \\text{if } n = \\text{A} \\text{ and } k = 6             \\\\\n",
    "  x_t & = \\text{none}  & \\quad & \\text{if } n = \\text{A} \\text{ and } k \\in \\{0, 3\\}    \\\\\n",
    "  x_t & = \\text{none}  & \\quad & \\text{if } n = \\text{B} \\text{ and } k \\in \\{0, 3, 6\\}\n",
    "\\end{alignat*}"
   ]
  },
  {
   "cell_type": "code",
   "execution_count": null,
   "metadata": {
    "collapsed": true
   },
   "outputs": [],
   "source": [
    "# List of decisions\n",
    "decisions = [1, 2, 'none']"
   ]
  },
  {
   "cell_type": "markdown",
   "metadata": {},
   "source": [
    "* Now we can initialize a stochastic DP object called `dp` as follows:"
   ]
  },
  {
   "cell_type": "code",
   "execution_count": null,
   "metadata": {
    "collapsed": true
   },
   "outputs": [],
   "source": [
    "# Initialize stochastic dynamic program - we want to maximize, so minimize = False\n",
    "dp = StochasticDP(number_of_stages, states, decisions, minimize=False)"
   ]
  },
  {
   "cell_type": "markdown",
   "metadata": {},
   "source": [
    "## Transition probabilities from stages $t = 0, 1, \\dots, T-2$"
   ]
  },
  {
   "cell_type": "markdown",
   "metadata": {},
   "source": [
    "* First, let's tackle transitions from the state $(A, 6, d)$ for $d = -20, \\dots, 20$ in stages $t = 0, 1, \\dots, T-2$:\n",
    "\n",
    "![State $(A, 6, d)$](img/a6d.png)"
   ]
  },
  {
   "cell_type": "markdown",
   "metadata": {},
   "source": [
    "* In Lesson 18, we assumed that $d$ could take on an infinite number values.\n",
    "\n",
    "* On the other hand, here, we have limited $d$ to be between $-20$ and $20$.\n",
    "\n",
    "* How does this change our transition probabilities?\n",
    "\n",
    "* For example, suppose $d = -17$ in the diagram above. Then we can model the transition probabilities like this:\n",
    "\n",
    "![State $(A, 6, -17)$ under decision $x_t = 1$](img/a6d-2.png)\n",
    "\n",
    "* In other words, if $d$ is supposed to be less than $-20$, then we simply assume that it is the same as having $d = -20$.\n",
    "\n",
    "* We can do the same thing when $d$ is supposed to be greater than $20$.\n",
    "\n",
    "* To implement this easily, we can define the transition probabilities like in the cell below."
   ]
  },
  {
   "cell_type": "markdown",
   "metadata": {},
   "source": [
    "* _Notes._ \n",
    "    - In Python,\n",
    "    ```python\n",
    "    a += 3\n",
    "    ```\n",
    "    is the same as\n",
    "    ```python\n",
    "    a = a + 3\n",
    "    ```\n",
    "    - Remember that the transition probabilities and contributions are all initialized to 0."
   ]
  },
  {
   "cell_type": "code",
   "execution_count": null,
   "metadata": {
    "collapsed": true
   },
   "outputs": [],
   "source": [
    "# Transition probabilities from (A, 6, d) up to stage T - 2\n",
    "for t in range(T - 1):\n",
    "    for d in range(-max_d, max_d + 1):\n",
    "        # 1-point conversion\n",
    "        dp.transition[('B', 6, max(d - 6, -max_d)), ('A', 6, d), t, 1] += (1 - pA) * tB\n",
    "        dp.transition[('B', 6, max(d - 5, -max_d)), ('A', 6, d), t, 1] += pA * tB\n",
    "        dp.transition[('B', 3, max(d - 3, -max_d)), ('A', 6, d), t, 1] += (1 - pA) * gB\n",
    "        dp.transition[('B', 3, max(d - 2, -max_d)), ('A', 6, d), t, 1] += pA * gB\n",
    "        dp.transition[('B', 0, d),                  ('A', 6, d), t, 1] += (1 - pA) * zB\n",
    "        dp.transition[('B', 0, min(d + 1, max_d)),  ('A', 6, d), t, 1] += pA * zB\n",
    "        \n",
    "        # 2-point conversion\n",
    "        dp.transition[('B', 6, max(d - 6, -max_d)), ('A', 6, d), t, 2] += (1 - qA) * tB\n",
    "        dp.transition[('B', 6, max(d - 4, -max_d)), ('A', 6, d), t, 2] += qA * tB\n",
    "        dp.transition[('B', 3, max(d - 3, -max_d)), ('A', 6, d), t, 2] += (1 - qA) * gB\n",
    "        dp.transition[('B', 3, max(d - 1, -max_d)), ('A', 6, d), t, 2] += qA * gB\n",
    "        dp.transition[('B', 0, d),                  ('A', 6, d), t, 2] += (1 - qA) * zB\n",
    "        dp.transition[('B', 0, min(d + 2, max_d)),  ('A', 6, d), t, 2] += qA * zB"
   ]
  },
  {
   "cell_type": "markdown",
   "metadata": {},
   "source": [
    "* In a similar fashion, we can define the remaining transition probabilities.\n",
    "\n",
    "* From states $(A, 3, d)$ for $d = -20, \\dots, 20$ in stages $t = 0, 1, \\dots, T-2$:\n",
    "\n",
    "![State $(A, 3, d)$](img/a3d.png)"
   ]
  },
  {
   "cell_type": "code",
   "execution_count": null,
   "metadata": {
    "collapsed": true
   },
   "outputs": [],
   "source": [
    "# Transition probabilities from (A, 3, d) up to stage T - 2\n",
    "for t in range(T - 1):\n",
    "    for d in range(-max_d, max_d + 1):\n",
    "        dp.transition[('B', 6, max(d - 6, -max_d)), ('A', 3, d), t, 'none'] += tB\n",
    "        dp.transition[('B', 3, max(d - 3, -max_d)), ('A', 3, d), t, 'none'] += gB\n",
    "        dp.transition[('B', 0, d),                  ('A', 3, d), t, 'none'] += zB"
   ]
  },
  {
   "cell_type": "markdown",
   "metadata": {},
   "source": [
    "* From states $(A, 0, d)$ for $d = -20, \\dots, 20$ in stages $t = 0, 1, \\dots, T-2$:\n",
    "\n",
    "![State $(A, 0, d)$](img/a0d.png)"
   ]
  },
  {
   "cell_type": "code",
   "execution_count": null,
   "metadata": {
    "collapsed": true
   },
   "outputs": [],
   "source": [
    "# Transition probabilities from (A, 0, d) up to stage T - 2\n",
    "for t in range(T - 1):\n",
    "    for d in range(-max_d, max_d + 1):\n",
    "        dp.transition[('B', 6, max(d - 6, -max_d)), ('A', 0, d), t, 'none'] += tB\n",
    "        dp.transition[('B', 3, max(d - 3, -max_d)), ('A', 0, d), t, 'none'] += gB\n",
    "        dp.transition[('B', 0, d),                  ('A', 0, d), t, 'none'] += zB"
   ]
  },
  {
   "cell_type": "markdown",
   "metadata": {},
   "source": [
    "* From states $(B, 6, d)$ for $d = -20, \\dots, 20$ in stages $t = 0, 1, \\dots, T-2$:\n",
    "\n",
    "![State $(B, 6, d)$](img/b6d.png)"
   ]
  },
  {
   "cell_type": "code",
   "execution_count": null,
   "metadata": {
    "collapsed": true
   },
   "outputs": [],
   "source": [
    "# Transition probabilities from (B, 6, d) up to stage T - 2\n",
    "for t in range(T - 1):\n",
    "    for d in range(-max_d, max_d + 1):\n",
    "        dp.transition[('A', 6, min(d + 6, max_d)), ('B', 6, d), t, 'none'] += (1 - b1*pB - b2*qB) * tA\n",
    "        dp.transition[('A', 3, min(d + 3, max_d)), ('B', 6, d), t, 'none'] += (1 - b1*pB - b2*qB) * gA\n",
    "        dp.transition[('A', 0, d),                 ('B', 6, d), t, 'none'] += (1 - b1*pB - b2*qB) * zA\n",
    "        \n",
    "        dp.transition[('A', 6, min(d + 5, max_d)),  ('B', 6, d), t, 'none'] += b1 * pB * tA\n",
    "        dp.transition[('A', 3, min(d + 2, max_d)),  ('B', 6, d), t, 'none'] += b1 * pB * gA\n",
    "        dp.transition[('A', 0, max(d - 1, -max_d)), ('B', 6, d), t, 'none'] += b1 * pB * zA\n",
    "        \n",
    "        dp.transition[('A', 6, min(d + 4, max_d)),  ('B', 6, d), t, 'none'] += b2 * qB * tA\n",
    "        dp.transition[('A', 3, min(d + 1, max_d)),  ('B', 6, d), t, 'none'] += b2 * qB * gA\n",
    "        dp.transition[('A', 0, max(d - 2, -max_d)), ('B', 6, d), t, 'none'] += b2 * qB * zA"
   ]
  },
  {
   "cell_type": "markdown",
   "metadata": {},
   "source": [
    "* From states $(B, 3, d)$ for $d = -20, \\dots, 20$ in stages $t = 0, 1, \\dots, T-2$:\n",
    "\n",
    "![State $(B, 3, d)$](img/b3d.png)"
   ]
  },
  {
   "cell_type": "code",
   "execution_count": null,
   "metadata": {
    "collapsed": false
   },
   "outputs": [],
   "source": [
    "# Transition probabilities from (B, 3, d) up to stage T - 2\n",
    "for t in range(T - 1):\n",
    "    for d in range(-max_d, max_d + 1):\n",
    "        dp.transition[('A', 6, min(d + 6, max_d)), ('B', 3, d), t, 'none'] += tA\n",
    "        dp.transition[('A', 3, min(d + 3, max_d)), ('B', 3, d), t, 'none'] += gA\n",
    "        dp.transition[('A', 0, d),                 ('B', 3, d), t, 'none'] += zA"
   ]
  },
  {
   "cell_type": "markdown",
   "metadata": {},
   "source": [
    "* From states $(B, 0, d)$ for $d = -20, \\dots, 20$ in stages $t = 0, 1, \\dots, T-2$:\n",
    "\n",
    "![State $(B, 0, d)$](img/b0d.png)"
   ]
  },
  {
   "cell_type": "code",
   "execution_count": null,
   "metadata": {
    "collapsed": true
   },
   "outputs": [],
   "source": [
    "# Transition probabilities from (B, 0, d) up to stage T - 2\n",
    "for t in range(T - 1):\n",
    "    for d in range(-max_d, max_d + 1):\n",
    "        dp.transition[('A', 6, min(d + 6, max_d)), ('B', 0, d), t, 'none'] += tA\n",
    "        dp.transition[('A', 3, min(d + 3, max_d)), ('B', 0, d), t, 'none'] += gA\n",
    "        dp.transition[('A', 0, d),                 ('B', 0, d), t, 'none'] += zA"
   ]
  },
  {
   "cell_type": "markdown",
   "metadata": {},
   "source": [
    "## Transition probabilities from stage $T - 1$"
   ]
  },
  {
   "cell_type": "markdown",
   "metadata": {},
   "source": [
    "* Now, we can tackle the transitions from stage $T-1$.\n",
    "\n",
    "* From states $(A, 6, d)$ for $d = -20, \\dots, 20$ in stage $T - 1$:\n",
    "\n",
    "![](img/last_a6d.png)"
   ]
  },
  {
   "cell_type": "code",
   "execution_count": null,
   "metadata": {
    "collapsed": true
   },
   "outputs": [],
   "source": [
    "# Transition probabilities from (A, 6, d) in stage T - 1\n",
    "for d in range(-max_d, max_d + 1):\n",
    "    # 1-point conversion\n",
    "    dp.transition[('A', 6, min(d + 1, max_d)),  ('A', 6, d), T - 1, 1] += pA\n",
    "    dp.transition[('A', 6, d),                  ('A', 6, d), T - 1, 1] += 1 - pA\n",
    "\n",
    "    # 2-point conversion\n",
    "    dp.transition[('B', 0, min(d + 2, max_d)),  ('A', 6, d), T - 1, 2] += qA\n",
    "    dp.transition[('B', 0, d),                  ('A', 6, d), T - 1, 2] += (1 - qA)"
   ]
  },
  {
   "cell_type": "markdown",
   "metadata": {},
   "source": [
    "* From states $(A, 3, d)$ for $d = -20, \\dots, 20$ in stage $T - 1$:\n",
    "\n",
    "![](img/last_a3d.png)"
   ]
  },
  {
   "cell_type": "code",
   "execution_count": null,
   "metadata": {
    "collapsed": false
   },
   "outputs": [],
   "source": [
    "# Transition probabilities from (A, 3, d) in stage T - 1\n",
    "for d in range(-max_d, max_d + 1):\n",
    "    dp.transition[('A', 3, d), ('A', 3, d), T - 1, 'none'] += 1"
   ]
  },
  {
   "cell_type": "markdown",
   "metadata": {},
   "source": [
    "* From states $(A, 0, d)$ for $d = -20, \\dots, 20$ in stage $T - 1$:\n",
    "\n",
    "![](img/last_a0d.png)"
   ]
  },
  {
   "cell_type": "code",
   "execution_count": null,
   "metadata": {
    "collapsed": false
   },
   "outputs": [],
   "source": [
    "# Transition probabilities from (A, 0, d) in stage T - 1\n",
    "for d in range(-max_d, max_d + 1):\n",
    "    dp.transition[('A', 0, d), ('A', 0, d), T - 1, 'none'] += 1"
   ]
  },
  {
   "cell_type": "markdown",
   "metadata": {},
   "source": [
    "* From states $(B, 6, d)$ for $d = -20, \\dots, 20$ in stage $T - 1$:\n",
    "\n",
    "![](img/last_b6d.png)"
   ]
  },
  {
   "cell_type": "code",
   "execution_count": null,
   "metadata": {
    "collapsed": true
   },
   "outputs": [],
   "source": [
    "# Transition probabilities from (B, 6, d) in stage T - 1\n",
    "for d in range(-max_d, max_d + 1):\n",
    "    dp.transition[('B', 6, max(d - 2, -max_d)),  ('B', 6, d), T - 1, 'none'] += qB * b2\n",
    "    dp.transition[('B', 6, max(d - 1, -max_d)),  ('B', 6, d), T - 1, 'none'] += pB * b1\n",
    "    dp.transition[('B', 6, d),                  ('B', 6, d), T - 1, 'none'] += 1 - pB * b1 - qB * b2"
   ]
  },
  {
   "cell_type": "markdown",
   "metadata": {},
   "source": [
    "* From states $(B, 3, d)$ for $d = -20, \\dots, 20$ in stage $T - 1$:\n",
    "\n",
    "![](img/last_b3d.png)"
   ]
  },
  {
   "cell_type": "code",
   "execution_count": null,
   "metadata": {
    "collapsed": false
   },
   "outputs": [],
   "source": [
    "# Transition probabilities from (B, 3, d) in stage T - 1\n",
    "for d in range(-max_d, max_d + 1):\n",
    "    dp.transition[('B', 3, d), ('B', 3, d), T - 1, 'none'] += 1"
   ]
  },
  {
   "cell_type": "markdown",
   "metadata": {},
   "source": [
    "* From states $(B, 0, d)$ for $d = -20, \\dots, 20$ in stage $T - 1$:\n",
    "\n",
    "![](img/last_b0d.png)"
   ]
  },
  {
   "cell_type": "code",
   "execution_count": null,
   "metadata": {
    "collapsed": false
   },
   "outputs": [],
   "source": [
    "# Transition probabilities from (B, 0, d) in stage T - 1\n",
    "for d in range(-max_d, max_d + 1):\n",
    "    dp.transition[('B', 0, d), ('B', 0, d), T - 1, 'none'] += 1"
   ]
  },
  {
   "cell_type": "markdown",
   "metadata": {},
   "source": [
    "## Boundary conditions"
   ]
  },
  {
   "cell_type": "markdown",
   "metadata": {},
   "source": [
    "* Finally, the boundary conditions:\n",
    "\n",
    "$$\n",
    "f_T(n, k, d) = \\begin{cases}\n",
    "1 & \\text{if } d > 0\\\\\n",
    "r & \\text{if } d = 0\\\\\n",
    "0 & \\text{if } d < 0\n",
    "\\end{cases}\n",
    "\\qquad \\text{for } n \\in \\{\\text{A}, \\text{B}\\}, k \\in \\{0, 3, 6\\}, d = -20,\\dots,20\n",
    "$$"
   ]
  },
  {
   "cell_type": "code",
   "execution_count": null,
   "metadata": {
    "collapsed": false
   },
   "outputs": [],
   "source": [
    "# Boundary conditions\n",
    "for n in ['A', 'B']:\n",
    "    for k in [0, 3, 6]:\n",
    "        for d in range(-max_d, max_d + 1):\n",
    "            if d > 0:\n",
    "                dp.boundary[n, k, d] = 1\n",
    "            elif d == 0:\n",
    "                dp.boundary[n, k, d] = r\n",
    "            else:\n",
    "                dp.boundary[n, k, d] = 0"
   ]
  },
  {
   "cell_type": "markdown",
   "metadata": {},
   "source": [
    "## Solving the stochastic dynamic program"
   ]
  },
  {
   "cell_type": "code",
   "execution_count": null,
   "metadata": {
    "collapsed": false
   },
   "outputs": [],
   "source": [
    "# Solve the stochastic dynamic program\n",
    "value, policy = dp.solve()"
   ]
  },
  {
   "cell_type": "markdown",
   "metadata": {},
   "source": [
    "## Interpreting output from the stochastic dynamic program"
   ]
  },
  {
   "cell_type": "markdown",
   "metadata": {},
   "source": [
    "* What is the probability that Team A wins after scoring a touchdown in the first possession?"
   ]
  },
  {
   "cell_type": "code",
   "execution_count": null,
   "metadata": {
    "collapsed": false
   },
   "outputs": [],
   "source": [
    "value[0, ('A', 6, 6)]"
   ]
  },
  {
   "cell_type": "markdown",
   "metadata": {},
   "source": [
    "* What should Team A do after scoring a touchdown in the first possession?"
   ]
  },
  {
   "cell_type": "code",
   "execution_count": null,
   "metadata": {
    "collapsed": false
   },
   "outputs": [],
   "source": [
    "policy[0, ('A', 6, 6)]"
   ]
  },
  {
   "cell_type": "markdown",
   "metadata": {},
   "source": [
    "* Suppose Team A just scored a touchdown, making it 4 points ahead. How does (1) the probability of Team A winning and (2) Team A's optimal strategy change depending on which possession this happened? Why do the trends you identified make sense?\n",
    "\n",
    "_Hint._ Write a `for` loop that prints out the information you want."
   ]
  },
  {
   "cell_type": "code",
   "execution_count": null,
   "metadata": {
    "collapsed": false,
    "scrolled": true
   },
   "outputs": [],
   "source": [
    "d = 4\n",
    "for t in range(number_of_stages):\n",
    "        if t == number_of_stages - 1:\n",
    "            this_policy = 'game over'\n",
    "        else:\n",
    "            this_policy = str(policy[t, ('A', 6, d)])\n",
    "        print(\"Points ahead: {1:2}  Possession: {0:2}    Go for: {2:<9}  Pr(win): {3:.4f}\".format(t, d, this_policy, value[t, ('A', 6, d)]))"
   ]
  }
 ],
 "metadata": {
  "kernelspec": {
   "display_name": "Python 3",
   "language": "python",
   "name": "python3"
  },
  "language_info": {
   "codemirror_mode": {
    "name": "ipython",
    "version": 3
   },
   "file_extension": ".py",
   "mimetype": "text/x-python",
   "name": "python",
   "nbconvert_exporter": "python",
   "pygments_lexer": "ipython3",
   "version": "3.5.2"
  },
  "latex_metadata": {
   "lesson": "19",
   "lessontitle": "Solving the points-after-touchdown problem",
   "shortlessontitle": "Solving the points-after-touchdown problem"
  }
 },
 "nbformat": 4,
 "nbformat_minor": 0
}
